{
 "cells": [
  {
   "cell_type": "code",
   "execution_count": 61,
   "metadata": {},
   "outputs": [],
   "source": [
    "import torch\n",
    "import torch.nn as nn\n",
    "import numpy as np\n",
    "from level_replay.algo.dqn import DQN\n",
    "from level_replay.algo.memory import ReplayMemory\n"
   ]
  },
  {
   "cell_type": "code",
   "execution_count": 65,
   "metadata": {},
   "outputs": [],
   "source": [
    "class Args():\n",
    "    def __init__(self):\n",
    "        self.atoms = 51\n",
    "        self.hidden_size = 32\n",
    "        self.noisy_std = 0.1\n",
    "        self.device = None\n",
    "        self.capacity = int(1e6)\n",
    "        self.history_length = 4\n",
    "        self.discount = 0.99\n",
    "        self.multi_step = 3\n",
    "        self.priority_weight = 0.4  # Initial importance sampling weight β, annealed to 1 over course of training\n",
    "        self.priority_exponent = 0.5\n",
    "        #self.t = 0  # Internal episode timestep counter"
   ]
  },
  {
   "cell_type": "code",
   "execution_count": 66,
   "metadata": {},
   "outputs": [],
   "source": [
    "args = Args()\n",
    "\n",
    "#dqn = DQN(args, 5)"
   ]
  },
  {
   "cell_type": "code",
   "execution_count": 46,
   "metadata": {},
   "outputs": [],
   "source": [
    "np.random.seed(100)\n",
    "x = torch.Tensor(np.random.randn(1, 3, 64, 64))\n",
    "support = torch.linspace(-10, 10, 51)"
   ]
  },
  {
   "cell_type": "code",
   "execution_count": 47,
   "metadata": {},
   "outputs": [],
   "source": [
    "value, action, action_log_dist, _ = dqn.act(x, None, None)"
   ]
  },
  {
   "cell_type": "code",
   "execution_count": 48,
   "metadata": {},
   "outputs": [
    {
     "data": {
      "text/plain": [
       "3"
      ]
     },
     "execution_count": 48,
     "metadata": {},
     "output_type": "execute_result"
    }
   ],
   "source": [
    "(action_log_dist * support).sum(2).argmax(1).item()"
   ]
  },
  {
   "cell_type": "code",
   "execution_count": 19,
   "metadata": {},
   "outputs": [
    {
     "data": {
      "text/plain": [
       "(tensor([[[-0.0813, -0.4492, -0.2702, -0.2081, -0.6700,  0.1145, -0.0914,\n",
       "           -0.3462,  0.1335,  0.2785, -0.2072, -0.4303, -0.0804,  0.7119,\n",
       "            0.6244,  0.1353,  0.0986,  0.3624,  0.4729,  0.3786, -0.0866,\n",
       "            0.5251, -0.0224, -0.4950, -0.0459,  0.1321, -0.0317,  0.0941,\n",
       "            0.2795, -0.3317, -0.2543,  0.0749, -0.2027, -0.1179, -0.6567,\n",
       "           -0.0717, -0.2332, -0.0304,  0.5374,  0.3512, -0.4912, -0.2774,\n",
       "           -0.1640,  0.3788,  0.3268, -0.4122, -0.5961,  0.0760, -0.3489,\n",
       "            0.3175, -0.3561]]], grad_fn=<ViewBackward>),\n",
       " tensor(141),\n",
       " tensor([[[-4.3150, -4.6173, -4.3687, -3.3920, -4.7240, -4.4574, -3.5289,\n",
       "           -4.3360, -3.5890, -3.9150, -4.5365, -4.4856, -4.7182, -3.4951,\n",
       "           -3.5753, -3.9679, -3.5062, -3.4742, -4.0464, -3.6183, -4.2134,\n",
       "           -3.2196, -3.9132, -4.4452, -4.3700, -3.6183, -4.4350, -3.5689,\n",
       "           -3.7529, -4.1673, -4.4409, -4.2927, -4.3548, -4.6976, -4.5174,\n",
       "           -3.8975, -3.6786, -3.6551, -3.5674, -3.3329, -4.2438, -4.2869,\n",
       "           -3.7782, -3.8319, -3.3400, -4.3528, -4.7130, -3.6267, -4.3082,\n",
       "           -3.6549, -4.4186],\n",
       "          [-4.2075, -4.7872, -4.9738, -4.4517, -4.4972, -3.4059, -4.5536,\n",
       "           -4.4705, -3.6881, -3.7483, -3.8628, -4.5687, -3.6433, -3.2385,\n",
       "           -3.5197, -3.5976, -3.6750, -3.7400, -3.9909, -3.5018, -3.9179,\n",
       "           -3.9358, -3.7103, -4.4119, -4.2005, -3.6660, -4.0700, -4.2693,\n",
       "           -3.8407, -4.0695, -4.2535, -3.4964, -4.4927, -3.8232, -5.0959,\n",
       "           -4.6590, -4.3789, -4.0109, -3.2463, -4.3395, -4.3582, -4.5507,\n",
       "           -3.4802, -3.0966, -3.5872, -4.3608, -4.1717, -4.2022, -4.2279,\n",
       "           -3.4820, -4.2462],\n",
       "          [-4.4700, -3.9219, -4.5595, -4.0844, -4.4639, -3.5910, -4.2750,\n",
       "           -4.3236, -4.1635, -3.9193, -4.3962, -4.0618, -3.7541, -3.6922,\n",
       "           -3.9155, -3.3326, -3.6460, -3.3272, -3.0128, -3.7088, -4.1572,\n",
       "           -2.9883, -4.4004, -4.1634, -4.0730, -4.0899, -4.4236, -3.8114,\n",
       "           -4.2857, -4.4433, -4.8815, -4.4463, -3.9809, -4.3633, -4.7610,\n",
       "           -3.5023, -3.8717, -3.9478, -3.5188, -2.9037, -4.7590, -4.5490,\n",
       "           -4.0795, -3.8263, -3.8454, -4.5910, -4.2778, -3.6898, -4.6849,\n",
       "           -3.8165, -4.6118],\n",
       "          [-3.9017, -4.8040, -4.0596, -4.5986, -4.8206, -4.3130, -3.9356,\n",
       "           -4.1347, -4.1246, -3.0991, -4.2196, -4.6293, -4.3076, -2.9912,\n",
       "           -2.9906, -4.5665, -4.4763, -3.8424, -3.3026, -3.6781, -4.2171,\n",
       "           -3.5396, -3.8183, -4.8413, -3.7897, -3.7892, -3.3492, -3.9545,\n",
       "           -3.2599, -4.3361, -3.7633, -3.6011, -4.7211, -3.6548, -4.3185,\n",
       "           -4.0359, -4.5576, -4.3075, -3.8537, -3.7279, -4.1506, -4.2149,\n",
       "           -4.7862, -3.8445, -4.0223, -4.6766, -4.8622, -3.9346, -4.5893,\n",
       "           -3.4317, -4.2000],\n",
       "          [-3.5599, -4.1630, -3.4372, -4.5611, -4.8920, -3.7076, -4.2114,\n",
       "           -4.5137, -3.8149, -3.9732, -4.0683, -4.4538, -4.0261, -3.0709,\n",
       "           -2.9245, -3.9066, -4.2510, -3.8515, -3.3303, -3.6473, -3.9747,\n",
       "           -3.7386, -4.3174, -4.6607, -3.8438, -4.2233, -3.9281, -3.9731,\n",
       "           -3.5106, -4.6896, -3.9799, -3.8368, -3.5115, -4.0981, -4.6382,\n",
       "           -4.3112, -4.7268, -4.2784, -3.1744, -3.9876, -4.9920, -3.8328,\n",
       "           -4.7432, -3.5540, -3.6189, -4.1274, -5.0033, -4.2143, -3.9818,\n",
       "           -4.0751, -4.3513]]], grad_fn=<LogSoftmaxBackward>),\n",
       " None)"
      ]
     },
     "execution_count": 19,
     "metadata": {},
     "output_type": "execute_result"
    }
   ],
   "source": [
    "dqn.act(x, None, None)"
   ]
  },
  {
   "cell_type": "code",
   "execution_count": 60,
   "metadata": {},
   "outputs": [
    {
     "data": {
      "text/plain": [
       "array([[[0., 0., 0., 0., 0., 0., 0., 0., 0., 0., 0., 0., 0., 0., 0., 0.,\n",
       "         0., 0., 0., 0., 0., 0., 0., 0., 0., 0., 0., 0., 0., 0., 0., 0.,\n",
       "         0., 0., 0., 0., 0., 0., 0., 0., 0., 0., 0., 0., 0., 0., 0., 0.,\n",
       "         0., 0., 0.]]])"
      ]
     },
     "execution_count": 60,
     "metadata": {},
     "output_type": "execute_result"
    }
   ],
   "source": [
    "np.zeros((1, 1, 51))"
   ]
  },
  {
   "cell_type": "code",
   "execution_count": 67,
   "metadata": {},
   "outputs": [],
   "source": [
    "mem = ReplayMemory(args, args.capacity)"
   ]
  },
  {
   "cell_type": "code",
   "execution_count": 74,
   "metadata": {},
   "outputs": [
    {
     "data": {
      "text/plain": [
       "(1000000,)"
      ]
     },
     "execution_count": 74,
     "metadata": {},
     "output_type": "execute_result"
    }
   ],
   "source": [
    "mem.transitions.data['reward'].shape"
   ]
  },
  {
   "cell_type": "code",
   "execution_count": null,
   "metadata": {},
   "outputs": [],
   "source": []
  }
 ],
 "metadata": {
  "kernelspec": {
   "display_name": "Python 3",
   "language": "python",
   "name": "python3"
  },
  "language_info": {
   "codemirror_mode": {
    "name": "ipython",
    "version": 3
   },
   "file_extension": ".py",
   "mimetype": "text/x-python",
   "name": "python",
   "nbconvert_exporter": "python",
   "pygments_lexer": "ipython3",
   "version": "3.8.5"
  }
 },
 "nbformat": 4,
 "nbformat_minor": 4
}
